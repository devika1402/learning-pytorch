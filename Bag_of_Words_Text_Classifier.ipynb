{
  "nbformat": 4,
  "nbformat_minor": 0,
  "metadata": {
    "colab": {
      "name": "Bag of Words Text Classifier.ipynb",
      "provenance": [],
      "collapsed_sections": [],
      "include_colab_link": true
    },
    "kernelspec": {
      "name": "python3",
      "display_name": "Python 3"
    },
    "language_info": {
      "name": "python"
    },
    "accelerator": "GPU"
  },
  "cells": [
    {
      "cell_type": "markdown",
      "metadata": {
        "id": "view-in-github",
        "colab_type": "text"
      },
      "source": [
        "<a href=\"https://colab.research.google.com/github/devika1402/learning-pytorch/blob/main/Bag_of_Words_Text_Classifier.ipynb\" target=\"_parent\"><img src=\"https://colab.research.google.com/assets/colab-badge.svg\" alt=\"Open In Colab\"/></a>"
      ]
    },
    {
      "cell_type": "markdown",
      "source": [
        "# Bag of Words Text Classifier\n",
        "\n",
        "The code below implements a simple bag of words text classifier.\n",
        "- We tokenize the text, create a vocabulary and encode each piece of text in the dataset\n",
        "- The lookup allows for extracting embeddings for each tokenized inputs\n",
        "- The embedding vectors are added together with a bias vector\n",
        "- The resulting vector is referred to as the scores\n",
        "- The score are applied a softmax to generate probabilities which are used for the classification task\n",
        "\n",
        "The code used in this notebook was inspired by code from the [official repo](https://github.com/neubig/nn4nlp-code) used in the [CMU Neural Networks for NLP class](http://www.phontron.com/class/nn4nlp2021/schedule.html) by [Graham Neubig](http://www.phontron.com/index.php). \n",
        "\n",
        "![img txt](https://github.com/dair-ai/ML-Notebooks/blob/main/img/bow.png?raw=true)\n"
      ],
      "metadata": {
        "id": "OP_uXHGK0Q9d"
      }
    },
    {
      "cell_type": "code",
      "source": [
        "import torch\n",
        "import random\n",
        "import torch.nn as nn"
      ],
      "metadata": {
        "id": "rYJ7PiaO2R6Q"
      },
      "execution_count": 1,
      "outputs": []
    },
    {
      "cell_type": "markdown",
      "source": [
        "### Download the Data"
      ],
      "metadata": {
        "id": "M3eH6PyS1Ykz"
      }
    },
    {
      "cell_type": "code",
      "source": [
        "# Capturing the stdout/stderr of a cell:\n",
        "%%capture \n",
        "\n",
        "# download the files\n",
        "!wget https://raw.githubusercontent.com/neubig/nn4nlp-code/master/data/classes/dev.txt\n",
        "!wget https://raw.githubusercontent.com/neubig/nn4nlp-code/master/data/classes/test.txt\n",
        "!wget https://raw.githubusercontent.com/neubig/nn4nlp-code/master/data/classes/train.txt\n",
        "\n",
        "# create the data folders\n",
        "!mkdir data data/classes\n",
        "!cp dev.txt data/classes\n",
        "!cp test.txt data/classes\n",
        "!cp train.txt data/classes"
      ],
      "metadata": {
        "id": "F_lDByee1ddU"
      },
      "execution_count": 2,
      "outputs": []
    },
    {
      "cell_type": "markdown",
      "source": [
        "### Read the Data"
      ],
      "metadata": {
        "id": "G9gihHeo0dK6"
      }
    },
    {
      "cell_type": "code",
      "execution_count": 3,
      "metadata": {
        "id": "YOYzmcLdzD8i"
      },
      "outputs": [],
      "source": [
        "# function to read in data, process each line and split columns by \" ||| \"\n",
        "def read_data(filename):\n",
        "    data = []\n",
        "    with open(filename, 'r') as f:\n",
        "        for line in f:\n",
        "            line = line.lower().strip()\n",
        "            line = line.split(' ||| ')\n",
        "            data.append(line)\n",
        "    return data\n",
        "\n",
        "train_data = read_data('data/classes/train.txt')\n",
        "test_data = read_data('data/classes/test.txt')"
      ]
    },
    {
      "cell_type": "markdown",
      "source": [
        "### Contruct the Vocab and Datasets"
      ],
      "metadata": {
        "id": "WEIAf06u2kZz"
      }
    },
    {
      "cell_type": "code",
      "source": [
        "# creating the word and tag indices\n",
        "word_to_index = {}\n",
        "word_to_index[\"<unk>\"] = len(word_to_index) # adds <UNK> to dictionary\n",
        "tag_to_index = {}\n",
        "\n",
        "# create word to index dictionary and tag to index dictionary from data\n",
        "def create_dict(data, check_unk=False):\n",
        "    for line in data:\n",
        "        for word in line[1].split(\" \"):\n",
        "            if check_unk == False:\n",
        "                if word not in word_to_index:\n",
        "                    word_to_index[word] = len(word_to_index)\n",
        "            else:\n",
        "                if word not in word_to_index:\n",
        "                    word_to_index[word] = word_to_index[\"<unk>\"] #unknown word\n",
        "\n",
        "        if line[0] not in tag_to_index:\n",
        "            tag_to_index[line[0]] = len(tag_to_index)\n",
        "\n",
        "create_dict(train_data)\n",
        "create_dict(test_data, check_unk=True)\n",
        "\n",
        "# create word and tag tensors from data\n",
        "def create_tensor(data):\n",
        "    for line in data:\n",
        "        yield([word_to_index[word] for word in line[1].split(\" \")], tag_to_index[line[0]])\n",
        "\n",
        "train_data = list(create_tensor(train_data))\n",
        "test_data = list(create_tensor(test_data))\n",
        "\n",
        "number_of_words = len(word_to_index)\n",
        "number_of_tags = len(tag_to_index)"
      ],
      "metadata": {
        "id": "9MJHDqjT2qDu"
      },
      "execution_count": 4,
      "outputs": []
    },
    {
      "cell_type": "markdown",
      "source": [
        "### Model"
      ],
      "metadata": {
        "id": "n-4FU9Ab2McP"
      }
    },
    {
      "cell_type": "code",
      "source": [
        "# cpu or gpu\n",
        "device = \"cuda\" if torch.cuda.is_available() else \"cpu\"\n",
        "\n",
        "# create a simple neural network with embedding layer, bias, and xavier initialization\n",
        "class BoW(torch.nn.Module):\n",
        "    def __init__(self, nwords, ntags):\n",
        "        super(BoW, self).__init__()\n",
        "        self.embedding = nn.Embedding(nwords, ntags)\n",
        "        nn.init.xavier_uniform_(self.embedding.weight) \n",
        "        #The goal of Xavier Initialization is to initialize the weights such that the variance of the activations are the same across every layer.\n",
        "\n",
        "        type = torch.cuda.FloatTensor if torch.cuda.is_available() else torch.FloatTensor\n",
        "        self.bias = torch.zeros(ntags, requires_grad=True).type(type)\n",
        "\n",
        "    def forward(self, x):   #feedforward function\n",
        "        emb = self.embedding(x) # seq_len x ntags (for each seq) \n",
        "        out = torch.sum(emb, dim=0) + self.bias # ntags\n",
        "        out = out.view(1, -1) # reshape to (1, ntags)\n",
        "        return out"
      ],
      "metadata": {
        "id": "Zt76PIzP0jWn"
      },
      "execution_count": 5,
      "outputs": []
    },
    {
      "cell_type": "markdown",
      "source": [
        "### Pretest the Model"
      ],
      "metadata": {
        "id": "Mi4FNOy02Z1t"
      }
    },
    {
      "cell_type": "code",
      "source": [
        "# function to convert sentence into tensor using word_to_index dictionary\n",
        "def sentence_to_tensor(sentence):\n",
        "    return torch.LongTensor([word_to_index[word] for word in sentence.split(\" \")])\n",
        "    #LongTensor used for 64-bit integer (signed)\n",
        "\n",
        "# test the sentence_to_tensor function\n",
        "type = torch.cuda.LongTensor if torch.cuda.is_available() else torch.LongTensor\n",
        "out = sentence_to_tensor(\"i love dogs\").type(type)\n",
        "test_model = BoW(number_of_words, number_of_tags).to(device)\n",
        "test_model(out)"
      ],
      "metadata": {
        "colab": {
          "base_uri": "https://localhost:8080/"
        },
        "id": "pn_LCZJv2Osz",
        "outputId": "d6c2c891-3a9a-4e44-85d1-e30aed72e877"
      },
      "execution_count": 6,
      "outputs": [
        {
          "output_type": "execute_result",
          "data": {
            "text/plain": [
              "tensor([[-0.0252, -0.0114, -0.0327,  0.0138,  0.0404]], device='cuda:0',\n",
              "       grad_fn=<ViewBackward0>)"
            ]
          },
          "metadata": {},
          "execution_count": 6
        }
      ]
    },
    {
      "cell_type": "markdown",
      "source": [
        "Output: Tensor values converted from sentences"
      ],
      "metadata": {
        "id": "Z60ShAR5k7rS"
      }
    },
    {
      "cell_type": "markdown",
      "source": [
        "### Train the Model"
      ],
      "metadata": {
        "id": "SH5r2Xzs21zB"
      }
    },
    {
      "cell_type": "code",
      "source": [
        "# train and test the BoW model\n",
        "model = BoW(number_of_words, number_of_tags).to(device)\n",
        "criterion = nn.CrossEntropyLoss()\n",
        "optimizer = torch.optim.Adam(model.parameters())\n",
        "type = torch.LongTensor\n",
        "\n",
        "# Cross-entropy loss is used when adjusting model weights during training. The aim is to minimize the loss, i.e, the smaller the loss the better the model. A perfect model has a cross-entropy loss of 0.\n",
        "# The results of the Adam optimizer are generally better than every other optimization algorithms, have faster computation time, and require fewer parameters for tuning. \n",
        "\n",
        "if torch.cuda.is_available():\n",
        "    model.to(device)\n",
        "    type = torch.cuda.LongTensor\n",
        "\n",
        "# perform training of the Bow model\n",
        "def train_bow(model, optimizer, criterion, train_data):\n",
        "    for ITER in range(10):\n",
        "        # perform training\n",
        "        model.train()\n",
        "        random.shuffle(train_data)\n",
        "        total_loss = 0.0\n",
        "        train_correct = 0\n",
        "        for sentence, tag in train_data:\n",
        "            sentence = torch.tensor(sentence).type(type)\n",
        "            tag = torch.tensor([tag]).type(type)\n",
        "            output = model(sentence)\n",
        "            predicted = torch.argmax(output.data.detach()).item() #Returns the indices of the maximum value of all elements in the input tensor\n",
        "            \n",
        "            loss = criterion(output, tag)\n",
        "            total_loss += loss.item()\n",
        "\n",
        "            optimizer.zero_grad()\n",
        "            loss.backward()\n",
        "            optimizer.step()\n",
        "\n",
        "            if predicted == tag: train_correct+=1\n",
        "\n",
        "        # perform testing of the model\n",
        "        model.eval()\n",
        "        test_correct = 0\n",
        "        for sentence, tag in test_data:\n",
        "            sentence = torch.tensor(sentence).type(type)\n",
        "            output = model(sentence)\n",
        "            predicted = torch.argmax(output.data.detach()).item()\n",
        "            if predicted == tag: test_correct += 1\n",
        "        \n",
        "        # print model performance results\n",
        "        log = f'ITER: {ITER+1} | ' \\\n",
        "            f'train loss/sent: {total_loss/len(train_data):.4f} | ' \\\n",
        "            f'train accuracy: {train_correct/len(train_data):.4f} | ' \\\n",
        "            f'test accuracy: {test_correct/len(test_data):.4f}'\n",
        "        print(log)\n",
        "\n",
        "# call the train_bow function\n",
        "train_bow(model, optimizer, criterion, train_data)"
      ],
      "metadata": {
        "colab": {
          "base_uri": "https://localhost:8080/"
        },
        "id": "f86xjDAi2bt8",
        "outputId": "5eae990c-4324-44d1-dec4-6de860a0f822"
      },
      "execution_count": 7,
      "outputs": [
        {
          "output_type": "stream",
          "name": "stdout",
          "text": [
            "ITER: 1 | train loss/sent: 1.4732 | train accuracy: 0.3701 | test accuracy: 0.4032\n",
            "ITER: 2 | train loss/sent: 1.1208 | train accuracy: 0.6045 | test accuracy: 0.4032\n",
            "ITER: 3 | train loss/sent: 0.9124 | train accuracy: 0.7156 | test accuracy: 0.4172\n",
            "ITER: 4 | train loss/sent: 0.7692 | train accuracy: 0.7654 | test accuracy: 0.4172\n",
            "ITER: 5 | train loss/sent: 0.6638 | train accuracy: 0.8069 | test accuracy: 0.4136\n",
            "ITER: 6 | train loss/sent: 0.5822 | train accuracy: 0.8305 | test accuracy: 0.4041\n",
            "ITER: 7 | train loss/sent: 0.5170 | train accuracy: 0.8543 | test accuracy: 0.4027\n",
            "ITER: 8 | train loss/sent: 0.4635 | train accuracy: 0.8702 | test accuracy: 0.4054\n",
            "ITER: 9 | train loss/sent: 0.4190 | train accuracy: 0.8851 | test accuracy: 0.4032\n",
            "ITER: 10 | train loss/sent: 0.3814 | train accuracy: 0.8935 | test accuracy: 0.4000\n"
          ]
        }
      ]
    }
  ]
}